{
 "cells": [
  {
   "cell_type": "code",
   "execution_count": 130,
   "metadata": {},
   "outputs": [],
   "source": [
    "import mysql.connector"
   ]
  },
  {
   "cell_type": "code",
   "execution_count": 131,
   "metadata": {},
   "outputs": [
    {
     "data": {
      "text/plain": [
       "<mysql.connector.connection_cext.CMySQLConnection at 0x1a180d3b190>"
      ]
     },
     "execution_count": 131,
     "metadata": {},
     "output_type": "execute_result"
    }
   ],
   "source": [
    "''''\n",
    "Host: sql7.freesqldatabase.com\n",
    "Database name: sql7720700\n",
    "Database user: sql7720700\n",
    "Database password: LbMR8S6Jb8\n",
    "Port number: 3306\n",
    "'''\n",
    "conn = mysql.connector.connect(host = \"sql7.freesqldatabase.com\",\n",
    "                                user = \"sql7720700\",\n",
    "                                password = \"LbMR8S6Jb8\",\n",
    "                                database = \"sql7720700\",\n",
    "                                port = 3306)\n",
    "conn"
   ]
  },
  {
   "cell_type": "code",
   "execution_count": 132,
   "metadata": {},
   "outputs": [
    {
     "data": {
      "text/plain": [
       "<mysql.connector.cursor_cext.CMySQLCursor at 0x1a180d57fd0>"
      ]
     },
     "execution_count": 132,
     "metadata": {},
     "output_type": "execute_result"
    }
   ],
   "source": [
    "cursor = conn.cursor()\n",
    "cursor"
   ]
  },
  {
   "cell_type": "markdown",
   "metadata": {},
   "source": [
    "/* find the number of availalbe copies of the book (Dracula)      */\n"
   ]
  },
  {
   "cell_type": "code",
   "execution_count": 133,
   "metadata": {},
   "outputs": [],
   "source": [
    "cursor.execute('''\n",
    "SELECT b.BookID, b.Title\n",
    "FROM Loans AS l\n",
    "LEFT JOIN Books AS b ON b.BookID = l.BookID\n",
    "WHERE b.Title = 'Dracula' AND b.BookID != (\n",
    "select b.BookID from Loans as l\n",
    "inner join Books as b on b.BookID = l.BookID\n",
    "where Title = 'Dracula' and ReturnedDate is null\n",
    ")\n",
    "GROUP BY b.BookID;\n",
    "''')"
   ]
  },
  {
   "cell_type": "code",
   "execution_count": 134,
   "metadata": {},
   "outputs": [
    {
     "data": {
      "text/plain": [
       "[(12, 'Dracula'), (60, 'Dracula')]"
      ]
     },
     "execution_count": 134,
     "metadata": {},
     "output_type": "execute_result"
    }
   ],
   "source": [
    "num_ava_of_DraculaBook = cursor.fetchall()\n",
    "num_ava_of_DraculaBook"
   ]
  },
  {
   "cell_type": "markdown",
   "metadata": {},
   "source": [
    "/* check total copies of the book */\n"
   ]
  },
  {
   "cell_type": "code",
   "execution_count": 135,
   "metadata": {},
   "outputs": [],
   "source": [
    "cursor.execute('''\n",
    "select Title, count(BookID) as numbers_0f_copies from Books\n",
    "where Title = 'Dracula';\n",
    "''')"
   ]
  },
  {
   "cell_type": "code",
   "execution_count": 136,
   "metadata": {},
   "outputs": [
    {
     "data": {
      "text/plain": [
       "[('Dracula', 3)]"
      ]
     },
     "execution_count": 136,
     "metadata": {},
     "output_type": "execute_result"
    }
   ],
   "source": [
    "TotalCopiesOf_Dracula = cursor.fetchall()\n",
    "TotalCopiesOf_Dracula"
   ]
  },
  {
   "cell_type": "markdown",
   "metadata": {},
   "source": [
    "/* current total loans of the book */\n"
   ]
  },
  {
   "cell_type": "code",
   "execution_count": 137,
   "metadata": {},
   "outputs": [],
   "source": [
    "cursor.execute('''\n",
    "SELECT b.Title, count(*) FROM Loans AS l\n",
    "inner JOIN Books AS b ON b.BookID = l.BookID\n",
    "WHERE l.ReturnedDate IS NULL AND b.title = 'Dracula';\n",
    "''')"
   ]
  },
  {
   "cell_type": "code",
   "execution_count": 138,
   "metadata": {},
   "outputs": [
    {
     "data": {
      "text/plain": [
       "[('Dracula', 1)]"
      ]
     },
     "execution_count": 138,
     "metadata": {},
     "output_type": "execute_result"
    }
   ],
   "source": [
    "loaned_copies_of_dracula = cursor.fetchall()\n",
    "loaned_copies_of_dracula"
   ]
  },
  {
   "cell_type": "markdown",
   "metadata": {},
   "source": [
    "/* total available books of dracula */\n"
   ]
  },
  {
   "cell_type": "code",
   "execution_count": 139,
   "metadata": {},
   "outputs": [],
   "source": [
    "cursor.execute('''\n",
    "SELECT b.BookID, COUNT(l.LoanID) AS loaned_count\n",
    "FROM Loans AS l\n",
    "LEFT JOIN Books AS b ON b.BookID = l.bookID\n",
    "WHERE b.Title = 'Dracula' AND b.BookID != (\n",
    "select b.BookID from Loans as l\n",
    "inner join Books as b on b.BookID = l.BookID\n",
    "where Title = 'Dracula' and ReturnedDate is null\n",
    ")\n",
    "GROUP BY b.BookID;\n",
    "''')"
   ]
  },
  {
   "cell_type": "code",
   "execution_count": 140,
   "metadata": {},
   "outputs": [
    {
     "data": {
      "text/plain": [
       "[(12, 6), (60, 13)]"
      ]
     },
     "execution_count": 140,
     "metadata": {},
     "output_type": "execute_result"
    }
   ],
   "source": [
    "ava_books_of_dracula = cursor.fetchall()\n",
    "ava_books_of_dracula"
   ]
  },
  {
   "cell_type": "markdown",
   "metadata": {},
   "source": [
    "/* Add new books to the library                        */\n"
   ]
  },
  {
   "cell_type": "code",
   "execution_count": 141,
   "metadata": {},
   "outputs": [],
   "source": [
    "# cursor.execute('''\n",
    "# insert into Books (BookID, Title, Author, Published, Barcode) values (201,'de7k', 'adel', 2019, 2482001);\n",
    "# insert into Books (BookID, Title, Author, Published, Barcode) values (202,'PYTHON', 'mostafa saad', 2000, 1552000);\n",
    "\n",
    "# insert into Books (BookID, Title, Author, Published, Barcode) values\n",
    "# (203, 'journey to the center of the earth', 'Ahmed Ayman', 1999, 2060708),\n",
    "# (204, 'once upon time','abdelziz', 1998, 45658978),\n",
    "# (205, 'venom', 'marvel', 1888, 10397850);\n",
    "# ''')"
   ]
  },
  {
   "cell_type": "code",
   "execution_count": 142,
   "metadata": {},
   "outputs": [],
   "source": [
    "cursor.execute('''\n",
    "select * from Books\n",
    "where BookID = 201;\n",
    "''')"
   ]
  },
  {
   "cell_type": "code",
   "execution_count": 143,
   "metadata": {},
   "outputs": [
    {
     "data": {
      "text/plain": [
       "[(201, 'de7k', 'adel', 2019, 2482001)]"
      ]
     },
     "execution_count": 143,
     "metadata": {},
     "output_type": "execute_result"
    }
   ],
   "source": [
    "show_insert1= cursor.fetchall()\n",
    "show_insert1"
   ]
  },
  {
   "cell_type": "markdown",
   "metadata": {},
   "source": [
    "Check out Books: books(4043822646, 2855934983) whose patron_email(jvaan@wisdompets.com), loandate=2020-08-25, duedate=2020-09-08, loanid=by_your_choice"
   ]
  },
  {
   "cell_type": "code",
   "execution_count": 144,
   "metadata": {},
   "outputs": [],
   "source": [
    "# cursor.execute('''\n",
    "# insert into Loans (LoanID, BookID, PatronID, LoanDate, DueDate) values\n",
    "# (5000,\n",
    "# (select BookID from Books where Barcode = 2855934983),\n",
    "# (select PatronID from Patrons where Email = 'jvaan@wisdompets.com'),\n",
    "# '2020-08-25','2020-09-08'),\n",
    "# (5001,\n",
    "# (select BookID from Books where Barcode = 4043822646),\n",
    "# (select PatronID from Patrons where Email = 'jvaan@wisdompets.com'),\n",
    "# '2020-08-25','2020-09-08');\n",
    "# ''')"
   ]
  },
  {
   "cell_type": "code",
   "execution_count": 145,
   "metadata": {},
   "outputs": [],
   "source": [
    "cursor.execute('''\n",
    "SELECT * from Loans\n",
    "where LoanID in (5001,5000);\n",
    "''')"
   ]
  },
  {
   "cell_type": "code",
   "execution_count": 146,
   "metadata": {},
   "outputs": [
    {
     "data": {
      "text/plain": [
       "[]"
      ]
     },
     "execution_count": 146,
     "metadata": {},
     "output_type": "execute_result"
    }
   ],
   "source": [
    "show_inser2 = cursor.fetchall()\n",
    "show_inser2"
   ]
  },
  {
   "cell_type": "markdown",
   "metadata": {},
   "source": [
    "Check books for Due back                             \n",
    "generate a report of books due back on July 13, 2020 \n",
    "with patron contact information   "
   ]
  },
  {
   "cell_type": "code",
   "execution_count": 147,
   "metadata": {},
   "outputs": [],
   "source": [
    "cursor.execute('''\n",
    "SELECT l.*, Title, p.* FROM Loans AS l\n",
    "LEFT JOIN Books AS b ON b.BookID = l.BookID\n",
    "inner join Patrons as p on p.PatronID = l.PatronID\n",
    "WHERE l.ReturnedDate IS NULL and l.DueDate = '2020-07-13';\n",
    "\n",
    "''')"
   ]
  },
  {
   "cell_type": "code",
   "execution_count": 148,
   "metadata": {},
   "outputs": [
    {
     "data": {
      "text/plain": [
       "[(1996,\n",
       "  10,\n",
       "  99,\n",
       "  '2020-06-29',\n",
       "  '2020-07-13',\n",
       "  None,\n",
       "  'The Count of Monte Cristo',\n",
       "  'Kala',\n",
       "  'Simonian',\n",
       "  'ksimonian2q@landonhotel.com',\n",
       "  99),\n",
       " (1997,\n",
       "  155,\n",
       "  47,\n",
       "  '2020-06-29',\n",
       "  '2020-07-13',\n",
       "  None,\n",
       "  'The Prophet',\n",
       "  'Lydie',\n",
       "  'Awmack',\n",
       "  'lawmack1a@samoca.org',\n",
       "  47),\n",
       " (1998,\n",
       "  169,\n",
       "  18,\n",
       "  '2020-06-29',\n",
       "  '2020-07-13',\n",
       "  None,\n",
       "  'Second Treatise of Government',\n",
       "  'Anthe',\n",
       "  'Dinjes',\n",
       "  'adinjesh@samoca.org',\n",
       "  18),\n",
       " (1999,\n",
       "  73,\n",
       "  59,\n",
       "  '2020-06-29',\n",
       "  '2020-07-13',\n",
       "  None,\n",
       "  'Dracula',\n",
       "  'Cornelia',\n",
       "  'Koppe',\n",
       "  'ckoppe1m@landonhotel.com',\n",
       "  59)]"
      ]
     },
     "execution_count": 148,
     "metadata": {},
     "output_type": "execute_result"
    }
   ],
   "source": [
    "report_of_patrons = cursor.fetchall()\n",
    "report_of_patrons"
   ]
  },
  {
   "cell_type": "code",
   "execution_count": 149,
   "metadata": {},
   "outputs": [
    {
     "data": {
      "text/plain": [
       "10"
      ]
     },
     "execution_count": 149,
     "metadata": {},
     "output_type": "execute_result"
    }
   ],
   "source": [
    "report_of_patrons[0][1]"
   ]
  },
  {
   "cell_type": "code",
   "execution_count": 150,
   "metadata": {},
   "outputs": [],
   "source": [
    "with open (\"Patrons data.csv\", mode = 'w', encoding='utf-8') as fd:\n",
    "    fd.write(\"LoanID, BookID, LoanDate, DueDate, ReturnedDate, Title, FirstName, LastName, Email, PatronID \\n\")\n",
    "    for i in range(len(report_of_patrons)):\n",
    "        fd.write(f'\\\"{report_of_patrons[i][0]}\\\", \\\"{report_of_patrons[i][1]}\\\", \\\"{report_of_patrons[i][2]}\\\", \\\"{report_of_patrons[i][3]}\\\", \\\"{report_of_patrons[i][4]}\\\", \\\"{report_of_patrons[i][5]}\\\", \\\"{report_of_patrons[i][6]}\\\", \\\"{report_of_patrons[i][7]}\\\", \\\"{report_of_patrons[i][8]}\\\", \\\"{report_of_patrons[i][9]}\\\", \\\"{report_of_patrons[i][10]}\\\" \\n')\n"
   ]
  },
  {
   "cell_type": "code",
   "execution_count": 151,
   "metadata": {},
   "outputs": [
    {
     "data": {
      "text/html": [
       "<div>\n",
       "<style scoped>\n",
       "    .dataframe tbody tr th:only-of-type {\n",
       "        vertical-align: middle;\n",
       "    }\n",
       "\n",
       "    .dataframe tbody tr th {\n",
       "        vertical-align: top;\n",
       "    }\n",
       "\n",
       "    .dataframe thead th {\n",
       "        text-align: right;\n",
       "    }\n",
       "</style>\n",
       "<table border=\"1\" class=\"dataframe\">\n",
       "  <thead>\n",
       "    <tr style=\"text-align: right;\">\n",
       "      <th></th>\n",
       "      <th>LoanID</th>\n",
       "      <th>BookID</th>\n",
       "      <th>LoanDate</th>\n",
       "      <th>DueDate</th>\n",
       "      <th>ReturnedDate</th>\n",
       "      <th>Title</th>\n",
       "      <th>FirstName</th>\n",
       "      <th>LastName</th>\n",
       "      <th>Email</th>\n",
       "      <th>PatronID</th>\n",
       "    </tr>\n",
       "  </thead>\n",
       "  <tbody>\n",
       "    <tr>\n",
       "      <th>1996</th>\n",
       "      <td>\"10\"</td>\n",
       "      <td>\"99\"</td>\n",
       "      <td>\"2020-06-29\"</td>\n",
       "      <td>\"2020-07-13\"</td>\n",
       "      <td>\"None\"</td>\n",
       "      <td>\"The Count of Monte Cristo\"</td>\n",
       "      <td>\"Kala\"</td>\n",
       "      <td>\"Simonian\"</td>\n",
       "      <td>\"ksimonian2q@landonhotel.com\"</td>\n",
       "      <td>\"99\"</td>\n",
       "    </tr>\n",
       "    <tr>\n",
       "      <th>1997</th>\n",
       "      <td>\"155\"</td>\n",
       "      <td>\"47\"</td>\n",
       "      <td>\"2020-06-29\"</td>\n",
       "      <td>\"2020-07-13\"</td>\n",
       "      <td>\"None\"</td>\n",
       "      <td>\"The Prophet\"</td>\n",
       "      <td>\"Lydie\"</td>\n",
       "      <td>\"Awmack\"</td>\n",
       "      <td>\"lawmack1a@samoca.org\"</td>\n",
       "      <td>\"47\"</td>\n",
       "    </tr>\n",
       "    <tr>\n",
       "      <th>1998</th>\n",
       "      <td>\"169\"</td>\n",
       "      <td>\"18\"</td>\n",
       "      <td>\"2020-06-29\"</td>\n",
       "      <td>\"2020-07-13\"</td>\n",
       "      <td>\"None\"</td>\n",
       "      <td>\"Second Treatise of Government\"</td>\n",
       "      <td>\"Anthe\"</td>\n",
       "      <td>\"Dinjes\"</td>\n",
       "      <td>\"adinjesh@samoca.org\"</td>\n",
       "      <td>\"18\"</td>\n",
       "    </tr>\n",
       "    <tr>\n",
       "      <th>1999</th>\n",
       "      <td>\"73\"</td>\n",
       "      <td>\"59\"</td>\n",
       "      <td>\"2020-06-29\"</td>\n",
       "      <td>\"2020-07-13\"</td>\n",
       "      <td>\"None\"</td>\n",
       "      <td>\"Dracula\"</td>\n",
       "      <td>\"Cornelia\"</td>\n",
       "      <td>\"Koppe\"</td>\n",
       "      <td>\"ckoppe1m@landonhotel.com\"</td>\n",
       "      <td>\"59\"</td>\n",
       "    </tr>\n",
       "  </tbody>\n",
       "</table>\n",
       "</div>"
      ],
      "text/plain": [
       "      LoanID  BookID       LoanDate        DueDate  ReturnedDate  \\\n",
       "1996    \"10\"    \"99\"   \"2020-06-29\"   \"2020-07-13\"        \"None\"   \n",
       "1997   \"155\"    \"47\"   \"2020-06-29\"   \"2020-07-13\"        \"None\"   \n",
       "1998   \"169\"    \"18\"   \"2020-06-29\"   \"2020-07-13\"        \"None\"   \n",
       "1999    \"73\"    \"59\"   \"2020-06-29\"   \"2020-07-13\"        \"None\"   \n",
       "\n",
       "                                 Title    FirstName     LastName  \\\n",
       "1996       \"The Count of Monte Cristo\"       \"Kala\"   \"Simonian\"   \n",
       "1997                     \"The Prophet\"      \"Lydie\"     \"Awmack\"   \n",
       "1998   \"Second Treatise of Government\"      \"Anthe\"     \"Dinjes\"   \n",
       "1999                         \"Dracula\"   \"Cornelia\"      \"Koppe\"   \n",
       "\n",
       "                               Email  PatronID   \n",
       "1996   \"ksimonian2q@landonhotel.com\"      \"99\"   \n",
       "1997          \"lawmack1a@samoca.org\"      \"47\"   \n",
       "1998           \"adinjesh@samoca.org\"      \"18\"   \n",
       "1999      \"ckoppe1m@landonhotel.com\"      \"59\"   "
      ]
     },
     "execution_count": 151,
     "metadata": {},
     "output_type": "execute_result"
    }
   ],
   "source": [
    "import pandas as pd\n",
    "df = pd.read_csv(\"Patrons data.csv\")\n",
    "df"
   ]
  },
  {
   "cell_type": "markdown",
   "metadata": {},
   "source": [
    "/* Return books to the library (which have barcode=6435968624) and return this book at this date(2020-07-05)                    */\n"
   ]
  },
  {
   "cell_type": "code",
   "execution_count": 152,
   "metadata": {},
   "outputs": [],
   "source": [
    "cursor.execute('''\n",
    "UPDATE Loans\n",
    "SET ReturnedDate = '2020-07-05'\n",
    "WHERE BookID = (\n",
    "SELECT BookID FROM Books\n",
    "WHERE Barcode = '6435968624'AND ReturnedDate IS NULL);\n",
    "''')"
   ]
  },
  {
   "cell_type": "code",
   "execution_count": 153,
   "metadata": {},
   "outputs": [],
   "source": [
    "cursor.execute('''\n",
    "select * from Loans\n",
    "where LoanID = 1991\n",
    "''')"
   ]
  },
  {
   "cell_type": "code",
   "execution_count": 154,
   "metadata": {},
   "outputs": [
    {
     "data": {
      "text/plain": [
       "[(1991, 105, 65, '2020-06-25', '2020-07-09', '2020-07-05')]"
      ]
     },
     "execution_count": 154,
     "metadata": {},
     "output_type": "execute_result"
    }
   ],
   "source": [
    "update_data1 = cursor.fetchall()\n",
    "update_data1"
   ]
  },
  {
   "cell_type": "markdown",
   "metadata": {},
   "source": [
    "Encourage Patrons to check out books                */\n",
    "/* generate a report of showing 10 patrons who have\n",
    "checked out the fewest books.       "
   ]
  },
  {
   "cell_type": "code",
   "execution_count": 155,
   "metadata": {},
   "outputs": [],
   "source": [
    "cursor.execute('''\n",
    "select p.PatronID, p.FirstName, p.Email, count(LoanID)as checke_out_num from Books as b\n",
    "inner join Loans as l on l.BookID = b.BookID\n",
    "inner join Patrons as p on p.PatronID = l.PatronID\n",
    "group by PatronID\n",
    "order by checke_out_num\n",
    "limit 10;\n",
    "''')"
   ]
  },
  {
   "cell_type": "code",
   "execution_count": 156,
   "metadata": {},
   "outputs": [
    {
     "data": {
      "text/plain": [
       "[(83, 'Caril', 'cmatejic2a@orangevalleycaa.org', 9),\n",
       " (69, 'Alaster', 'aruggles1w@red30design.com', 9),\n",
       " (73, 'Merle', 'msukbhans20@orangevalleycaa.org', 11),\n",
       " (94, 'Curr', 'cfittall2l@orangevalleycaa.org', 12),\n",
       " (64, 'Norby', 'nsleight1r@kinetecoinc.com', 12),\n",
       " (50, 'Jack', 'jvaan@wisdompets.com', 13),\n",
       " (7, 'Cammi', 'ckynett6@orangevalleycaa.org', 14),\n",
       " (16, 'Carla', 'cswinfenf@kinetecoinc.com', 14),\n",
       " (3, 'Aleen', 'afasey2@kinetecoinc.com', 14),\n",
       " (12, 'Orton', 'ostaversb@orangevalleycaa.org', 14)]"
      ]
     },
     "execution_count": 156,
     "metadata": {},
     "output_type": "execute_result"
    }
   ],
   "source": [
    "topten_patrons = cursor.fetchall()\n",
    "topten_patrons"
   ]
  },
  {
   "cell_type": "code",
   "execution_count": 157,
   "metadata": {},
   "outputs": [],
   "source": [
    "with open('patrons_report.csv', mode='w', encoding='utf-8') as fd:\n",
    "    fd.write('PatronsID, FirstName, Email, checked out number \\n')\n",
    "    for i in range(len(topten_patrons)):\n",
    "        fd.write(f'\\\"{topten_patrons[i][0]}\\\", \\\"{topten_patrons[i][1]}\\\", \\\"{topten_patrons[i][2]}\\\", \\\"{topten_patrons[i][3]}\\\" \\n')"
   ]
  },
  {
   "cell_type": "code",
   "execution_count": 158,
   "metadata": {},
   "outputs": [
    {
     "data": {
      "text/html": [
       "<div>\n",
       "<style scoped>\n",
       "    .dataframe tbody tr th:only-of-type {\n",
       "        vertical-align: middle;\n",
       "    }\n",
       "\n",
       "    .dataframe tbody tr th {\n",
       "        vertical-align: top;\n",
       "    }\n",
       "\n",
       "    .dataframe thead th {\n",
       "        text-align: right;\n",
       "    }\n",
       "</style>\n",
       "<table border=\"1\" class=\"dataframe\">\n",
       "  <thead>\n",
       "    <tr style=\"text-align: right;\">\n",
       "      <th></th>\n",
       "      <th>PatronsID</th>\n",
       "      <th>FirstName</th>\n",
       "      <th>Email</th>\n",
       "      <th>checked out number</th>\n",
       "    </tr>\n",
       "  </thead>\n",
       "  <tbody>\n",
       "    <tr>\n",
       "      <th>0</th>\n",
       "      <td>83</td>\n",
       "      <td>\"Caril\"</td>\n",
       "      <td>\"cmatejic2a@orangevalleycaa.org\"</td>\n",
       "      <td>\"9\"</td>\n",
       "    </tr>\n",
       "    <tr>\n",
       "      <th>1</th>\n",
       "      <td>69</td>\n",
       "      <td>\"Alaster\"</td>\n",
       "      <td>\"aruggles1w@red30design.com\"</td>\n",
       "      <td>\"9\"</td>\n",
       "    </tr>\n",
       "    <tr>\n",
       "      <th>2</th>\n",
       "      <td>73</td>\n",
       "      <td>\"Merle\"</td>\n",
       "      <td>\"msukbhans20@orangevalleycaa.org\"</td>\n",
       "      <td>\"11\"</td>\n",
       "    </tr>\n",
       "    <tr>\n",
       "      <th>3</th>\n",
       "      <td>94</td>\n",
       "      <td>\"Curr\"</td>\n",
       "      <td>\"cfittall2l@orangevalleycaa.org\"</td>\n",
       "      <td>\"12\"</td>\n",
       "    </tr>\n",
       "    <tr>\n",
       "      <th>4</th>\n",
       "      <td>64</td>\n",
       "      <td>\"Norby\"</td>\n",
       "      <td>\"nsleight1r@kinetecoinc.com\"</td>\n",
       "      <td>\"12\"</td>\n",
       "    </tr>\n",
       "    <tr>\n",
       "      <th>5</th>\n",
       "      <td>50</td>\n",
       "      <td>\"Jack\"</td>\n",
       "      <td>\"jvaan@wisdompets.com\"</td>\n",
       "      <td>\"13\"</td>\n",
       "    </tr>\n",
       "    <tr>\n",
       "      <th>6</th>\n",
       "      <td>7</td>\n",
       "      <td>\"Cammi\"</td>\n",
       "      <td>\"ckynett6@orangevalleycaa.org\"</td>\n",
       "      <td>\"14\"</td>\n",
       "    </tr>\n",
       "    <tr>\n",
       "      <th>7</th>\n",
       "      <td>16</td>\n",
       "      <td>\"Carla\"</td>\n",
       "      <td>\"cswinfenf@kinetecoinc.com\"</td>\n",
       "      <td>\"14\"</td>\n",
       "    </tr>\n",
       "    <tr>\n",
       "      <th>8</th>\n",
       "      <td>3</td>\n",
       "      <td>\"Aleen\"</td>\n",
       "      <td>\"afasey2@kinetecoinc.com\"</td>\n",
       "      <td>\"14\"</td>\n",
       "    </tr>\n",
       "    <tr>\n",
       "      <th>9</th>\n",
       "      <td>12</td>\n",
       "      <td>\"Orton\"</td>\n",
       "      <td>\"ostaversb@orangevalleycaa.org\"</td>\n",
       "      <td>\"14\"</td>\n",
       "    </tr>\n",
       "  </tbody>\n",
       "</table>\n",
       "</div>"
      ],
      "text/plain": [
       "   PatronsID   FirstName                               Email  \\\n",
       "0         83     \"Caril\"    \"cmatejic2a@orangevalleycaa.org\"   \n",
       "1         69   \"Alaster\"        \"aruggles1w@red30design.com\"   \n",
       "2         73     \"Merle\"   \"msukbhans20@orangevalleycaa.org\"   \n",
       "3         94      \"Curr\"    \"cfittall2l@orangevalleycaa.org\"   \n",
       "4         64     \"Norby\"        \"nsleight1r@kinetecoinc.com\"   \n",
       "5         50      \"Jack\"              \"jvaan@wisdompets.com\"   \n",
       "6          7     \"Cammi\"      \"ckynett6@orangevalleycaa.org\"   \n",
       "7         16     \"Carla\"         \"cswinfenf@kinetecoinc.com\"   \n",
       "8          3     \"Aleen\"           \"afasey2@kinetecoinc.com\"   \n",
       "9         12     \"Orton\"     \"ostaversb@orangevalleycaa.org\"   \n",
       "\n",
       "   checked out number   \n",
       "0                 \"9\"   \n",
       "1                 \"9\"   \n",
       "2                \"11\"   \n",
       "3                \"12\"   \n",
       "4                \"12\"   \n",
       "5                \"13\"   \n",
       "6                \"14\"   \n",
       "7                \"14\"   \n",
       "8                \"14\"   \n",
       "9                \"14\"   "
      ]
     },
     "execution_count": 158,
     "metadata": {},
     "output_type": "execute_result"
    }
   ],
   "source": [
    "fd1 = pd.read_csv('patrons_report.csv')\n",
    "fd1"
   ]
  },
  {
   "cell_type": "markdown",
   "metadata": {},
   "source": [
    "Find books to feature for an event                  \n",
    " create a list of books from 1890s that are\n",
    " currently available      "
   ]
  },
  {
   "cell_type": "code",
   "execution_count": 159,
   "metadata": {},
   "outputs": [],
   "source": [
    "cursor.execute('''\n",
    "select b.Title, count(b.BookID) as NumbersOfCopies from Books as b\n",
    "left join Loans as l on l.BookID = b.BookID\n",
    "where Published = 1890 and ReturnedDate is not null\n",
    "group by b.Title\n",
    "order by NumbersOfCopies DESC;\n",
    "''')"
   ]
  },
  {
   "cell_type": "code",
   "execution_count": 160,
   "metadata": {},
   "outputs": [
    {
     "data": {
      "text/plain": [
       "[('The Picture of Dorian Gray', 39),\n",
       " ('An Occurrence at Owl Creek Bridge', 32),\n",
       " ('The Sign of the Four', 25)]"
      ]
     },
     "execution_count": 160,
     "metadata": {},
     "output_type": "execute_result"
    }
   ],
   "source": [
    "books_data = cursor.fetchall()\n",
    "books_data"
   ]
  },
  {
   "cell_type": "code",
   "execution_count": 161,
   "metadata": {},
   "outputs": [],
   "source": [
    "with open('books data.csv', mode='w', encoding= 'utf-8') as fd:\n",
    "    fd.write('Books Title, NumbersOfCopies \\n')\n",
    "    for i in range(len(books_data)):\n",
    "        fd.write(f'\\\"{books_data[i][0]}\\\", \\\"{books_data[i][1]}\\\" \\n')"
   ]
  },
  {
   "cell_type": "code",
   "execution_count": 162,
   "metadata": {},
   "outputs": [
    {
     "data": {
      "text/html": [
       "<div>\n",
       "<style scoped>\n",
       "    .dataframe tbody tr th:only-of-type {\n",
       "        vertical-align: middle;\n",
       "    }\n",
       "\n",
       "    .dataframe tbody tr th {\n",
       "        vertical-align: top;\n",
       "    }\n",
       "\n",
       "    .dataframe thead th {\n",
       "        text-align: right;\n",
       "    }\n",
       "</style>\n",
       "<table border=\"1\" class=\"dataframe\">\n",
       "  <thead>\n",
       "    <tr style=\"text-align: right;\">\n",
       "      <th></th>\n",
       "      <th>Books Title</th>\n",
       "      <th>NumbersOfCopies</th>\n",
       "    </tr>\n",
       "  </thead>\n",
       "  <tbody>\n",
       "    <tr>\n",
       "      <th>0</th>\n",
       "      <td>The Picture of Dorian Gray</td>\n",
       "      <td>\"39\"</td>\n",
       "    </tr>\n",
       "    <tr>\n",
       "      <th>1</th>\n",
       "      <td>An Occurrence at Owl Creek Bridge</td>\n",
       "      <td>\"32\"</td>\n",
       "    </tr>\n",
       "    <tr>\n",
       "      <th>2</th>\n",
       "      <td>The Sign of the Four</td>\n",
       "      <td>\"25\"</td>\n",
       "    </tr>\n",
       "  </tbody>\n",
       "</table>\n",
       "</div>"
      ],
      "text/plain": [
       "                         Books Title  NumbersOfCopies \n",
       "0         The Picture of Dorian Gray             \"39\" \n",
       "1  An Occurrence at Owl Creek Bridge             \"32\" \n",
       "2               The Sign of the Four             \"25\" "
      ]
     },
     "execution_count": 162,
     "metadata": {},
     "output_type": "execute_result"
    }
   ],
   "source": [
    "fd2 = pd.read_csv('books data.csv')\n",
    "fd2"
   ]
  },
  {
   "cell_type": "markdown",
   "metadata": {},
   "source": [
    "Book Statistics \n",
    "/* create a report to show how many books were \n",
    "published each year.        "
   ]
  },
  {
   "cell_type": "code",
   "execution_count": 163,
   "metadata": {},
   "outputs": [],
   "source": [
    "cursor.execute('''\n",
    "SELECT Published, COUNT(DISTINCT(Title)) AS TotalNumberOfBooksPublished\n",
    "FROM Books\n",
    "GROUP BY Published\n",
    "ORDER BY TotalNumberOfBooksPublished DESC;\n",
    "''')"
   ]
  },
  {
   "cell_type": "code",
   "execution_count": 164,
   "metadata": {},
   "outputs": [
    {
     "data": {
      "text/plain": [
       "[(1890, 3),\n",
       " (1895, 3),\n",
       " (1892, 2),\n",
       " (1859, 2),\n",
       " (1922, 2),\n",
       " (1869, 2),\n",
       " (1898, 2),\n",
       " (1899, 2),\n",
       " (1847, 2),\n",
       " (1884, 2),\n",
       " (1850, 2),\n",
       " (1911, 2),\n",
       " (1605, 1),\n",
       " (1852, 1),\n",
       " (1889, 1),\n",
       " (1913, 1),\n",
       " (1670, 1),\n",
       " (1854, 1),\n",
       " (1914, 1),\n",
       " (1689, 1),\n",
       " (1858, 1),\n",
       " (1915, 1),\n",
       " (1726, 1),\n",
       " (1894, 1),\n",
       " (1920, 1),\n",
       " (1729, 1),\n",
       " (1861, 1),\n",
       " (1921, 1),\n",
       " (1759, 1),\n",
       " (1865, 1),\n",
       " (1896, 1),\n",
       " (1791, 1),\n",
       " (1897, 1),\n",
       " (1923, 1),\n",
       " (1811, 1),\n",
       " (1876, 1),\n",
       " (1998, 1),\n",
       " (1813, 1),\n",
       " (1878, 1),\n",
       " (1999, 1),\n",
       " (1815, 1),\n",
       " (1879, 1),\n",
       " (1900, 1),\n",
       " (2019, 1),\n",
       " (1818, 1),\n",
       " (1880, 1),\n",
       " (1901, 1),\n",
       " (1839, 1),\n",
       " (1883, 1),\n",
       " (1902, 1),\n",
       " (1905, 1),\n",
       " (1849, 1),\n",
       " (1886, 1),\n",
       " (1906, 1),\n",
       " (1375, 1),\n",
       " (1887, 1),\n",
       " (1908, 1),\n",
       " (1532, 1),\n",
       " (1851, 1),\n",
       " (1888, 1)]"
      ]
     },
     "execution_count": 164,
     "metadata": {},
     "output_type": "execute_result"
    }
   ],
   "source": [
    "TotalNumberOfBooksPublished = cursor.fetchall()\n",
    "TotalNumberOfBooksPublished"
   ]
  },
  {
   "cell_type": "markdown",
   "metadata": {},
   "source": [
    " Book Statistics                                           */\n",
    "/* create a report to show 5 most popular Books to check out */"
   ]
  },
  {
   "cell_type": "code",
   "execution_count": 165,
   "metadata": {},
   "outputs": [],
   "source": [
    "cursor.execute('''\n",
    "select b.Title ,count(LoanID) as loan_count from Books as b\n",
    "inner join Loans as l ON b.BookID = l.BookID\n",
    "group by b.Title\n",
    "order by loan_count desc\n",
    "limit 5;\n",
    "''')"
   ]
  },
  {
   "cell_type": "code",
   "execution_count": 166,
   "metadata": {},
   "outputs": [
    {
     "data": {
      "text/plain": [
       "[('Frankenstein; Or, The Modern Prometheus', 53),\n",
       " ('The Awakening, and Selected Short Stories', 43),\n",
       " ('The War of the Worlds', 43),\n",
       " ('The Scarlet Letter', 42),\n",
       " ('The Picture of Dorian Gray', 39)]"
      ]
     },
     "execution_count": 166,
     "metadata": {},
     "output_type": "execute_result"
    }
   ],
   "source": [
    "TopFiveBooks = cursor.fetchall()\n",
    "TopFiveBooks"
   ]
  },
  {
   "cell_type": "markdown",
   "metadata": {},
   "source": [
    "https://github.com/mostafa-s-mostafa/SQL-Project"
   ]
  }
 ],
 "metadata": {
  "kernelspec": {
   "display_name": "machine_learning",
   "language": "python",
   "name": "python3"
  },
  "language_info": {
   "codemirror_mode": {
    "name": "ipython",
    "version": 3
   },
   "file_extension": ".py",
   "mimetype": "text/x-python",
   "name": "python",
   "nbconvert_exporter": "python",
   "pygments_lexer": "ipython3",
   "version": "3.7.6"
  }
 },
 "nbformat": 4,
 "nbformat_minor": 2
}
